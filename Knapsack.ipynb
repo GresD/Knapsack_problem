{
  "cells": [
    {
      "cell_type": "markdown",
      "metadata": {
        "id": "88lxDms-saqt"
      },
      "source": [
        "# Zadanie 1a (3 pkt)\n",
        "Celem zadania jest rozwiązanie problemu plecakowego dwoma metodami - brute force oraz według zadanej heurystyki. Poprzez rozwiązanie problemu rozumiemy podanie które przedmioty (indeksy w tablicy) należy spakować do plecaka oraz jaka jest sumaryczna wartość i masa plecaka. Plan pracy:\n",
        "\n",
        "\n",
        "*   Rozwiązanie problemu metodą brute force.\n",
        "*   Rozwiązanie problemu według heurystyki - do plecaka pakujemy przedmioty według stosunku wartości do wagi\n",
        "*   Dla metody brute force wygenerować wykres zależności czasu wykonywania metody od liczby elementów w tablicach *weights* i *profits* \n",
        "\n",
        "\n"
      ]
    },
    {
      "cell_type": "code",
      "execution_count": 2,
      "metadata": {
        "colab": {
          "base_uri": "https://localhost:8080/"
        },
        "id": "1X0PiYKZ2w63",
        "outputId": "21bf4878-b9bb-4274-91c7-ee50d91355cc"
      },
      "outputs": [],
      "source": [
        "import numpy as np\n",
        "import itertools\n",
        "#!nvidia-smi"
      ]
    },
    {
      "cell_type": "code",
      "execution_count": 2,
      "metadata": {
        "id": "_IOCNGpCuy8s"
      },
      "outputs": [],
      "source": [
        "weights = np.array([8, 3, 5, 2])\n",
        "capacity = 9\n",
        "profits = np.array([16, 8, 9, 6])"
      ]
    },
    {
      "cell_type": "code",
      "execution_count": 3,
      "metadata": {
        "id": "s5J82x9WuSOh"
      },
      "outputs": [],
      "source": [
        "class KnapSack:\n",
        "  def __init__(self, profits, weights, capacity):\n",
        "    self.profits = profits\n",
        "    self.weights = weights\n",
        "    self.capacity = capacity\n",
        "    \n",
        "\n",
        "  def solve_knapsack_brute_force(self):\n",
        "    permutations = list(itertools.product([0,1],repeat=len(weights)))\n",
        "    profits_sum = 0\n",
        "    weights_sum = 0\n",
        "    taken_items = []\n",
        "    result = 0\n",
        "    \n",
        "    for i in range(len(permutations)):\n",
        "      for k in range(len(weights)):\n",
        "        if permutations[i][k] == 1:\n",
        "          weights_sum += weights[k]\n",
        "          if weights_sum <= capacity:\n",
        "            profits_sum += profits[k]\n",
        "          else:\n",
        "            profits_sum = 0\n",
        "            break\n",
        "      if profits_sum > result:\n",
        "        result = profits_sum\n",
        "        taken_items = permutations[i]\n",
        "      profits_sum = 0\n",
        "      weights_sum = 0\n",
        "\n",
        "    return result, taken_items\n",
        "          \n",
        "        \n",
        "          \n",
        "\n",
        "  def solve_knapsack_pw_ratio(self):\n",
        "    proportions = [0 for _ in range(len(weights))]\n",
        "    taken_items = [0 for _ in range(len(weights))]\n",
        "    profits_sum = 0\n",
        "    weights_sum = 0\n",
        "    result = 0\n",
        "    \n",
        "    for i in range(len(weights)):\n",
        "      proportions[i] = (profits[i]/weights[i], i)\n",
        "    \n",
        "    proportions.sort(reverse=1)\n",
        "    \n",
        "    for i in range(len(weights)):\n",
        "      weights_sum += weights[proportions[i][1]]\n",
        "      if weights_sum <= capacity:\n",
        "        profits_sum += profits[proportions[i][1]]\n",
        "        taken_items[proportions[i][1]] = 1\n",
        "      else:\n",
        "        weights_sum -= weights[proportions[i][1]]\n",
        "   \n",
        "    result = profits_sum \n",
        "    \n",
        "    return result, taken_items\n",
        "        "
      ]
    },
    {
      "cell_type": "code",
      "execution_count": 4,
      "metadata": {},
      "outputs": [
        {
          "name": "stdout",
          "output_type": "stream",
          "text": [
            "Wynik metody brute force:\n",
            "17\n",
            "Zabierane przedmioty:\n",
            "(0, 1, 1, 0)\n"
          ]
        }
      ],
      "source": [
        "Plecak = KnapSack(profits, weights, capacity)\n",
        "wynik, przedmioty = Plecak.solve_knapsack_brute_force()\n",
        "print(\"Wynik metody brute force:\")\n",
        "print(wynik)\n",
        "print(\"Zabierane przedmioty:\")\n",
        "print(przedmioty)"
      ]
    },
    {
      "cell_type": "code",
      "execution_count": 5,
      "metadata": {},
      "outputs": [
        {
          "name": "stdout",
          "output_type": "stream",
          "text": [
            "Wynik metody heurystycznej:\n",
            "14\n",
            "Zabierane przedmioty:\n",
            "[0, 1, 0, 1]\n"
          ]
        }
      ],
      "source": [
        "wynik, przedmioty = Plecak.solve_knapsack_pw_ratio()\n",
        "print(\"Wynik metody heurystycznej:\")\n",
        "print(wynik)\n",
        "print(\"Zabierane przedmioty:\")\n",
        "print(przedmioty)"
      ]
    },
    {
      "cell_type": "markdown",
      "metadata": {},
      "source": [
        "### Zadanie z dopisywanymi wartościami"
      ]
    },
    {
      "cell_type": "code",
      "execution_count": 6,
      "metadata": {},
      "outputs": [
        {
          "name": "stdout",
          "output_type": "stream",
          "text": [
            "[(4.1484832763671875e-05, 4), (7.843971252441406e-05, 5), (0.0001800060272216797, 6), (0.0002453327178955078, 7), (0.0005526542663574219, 8), (0.0010464191436767578, 9), (0.0020682811737060547, 10), (0.004366874694824219, 11), (0.008430004119873047, 12), (0.056438446044921875, 13), (0.03672051429748535, 14), (0.06656146049499512, 15), (0.13916969299316406, 16), (0.26718926429748535, 17), (0.6365091800689697, 18), (1.3214397430419922, 19)]\n"
          ]
        }
      ],
      "source": [
        "import time\n",
        "import random\n",
        "n = 16 #number of items + 1\n",
        "time_elapsed = [0 for _ in range(n)]\n",
        "items_number = 4\n",
        "for i in range(n):\n",
        "    Backpack = KnapSack(profits, weights, capacity)\n",
        "    \n",
        "    time_start = time.time()\n",
        "    Plecak.solve_knapsack_brute_force()\n",
        "    time_end = time.time()\n",
        "    time_elapsed[i] = (time_end - time_start, items_number)\n",
        "    \n",
        "    items_number += 1\n",
        "    weights = np.append(weights, random.randint(1,10))\n",
        "    profits = np.append(profits, random.randint(1,20))\n",
        "print(time_elapsed)\n",
        "    "
      ]
    },
    {
      "cell_type": "code",
      "execution_count": 7,
      "metadata": {},
      "outputs": [
        {
          "data": {
            "image/png": "[encoded data removed]",
            "text/plain": [
              "<Figure size 640x480 with 1 Axes>"
            ]
          },
          "metadata": {},
          "output_type": "display_data"
        }
      ],
      "source": [
        "import matplotlib.pyplot as plt \n",
        "y_val, x_val = zip(*time_elapsed)\n",
        "plt.plot(x_val, y_val)\n",
        "plt.plot(x_val, y_val, \"or\")\n",
        "plt.xlabel(\"liczba przedmiotów\")\n",
        "plt.ylabel(\"czas wykonania\")\n",
        "plt.title(\"Czas rozwiązywania zadania metodą brute force dla różnych ilości elementów\")\n",
        "plt.show()\n"
      ]
    },
    {
      "cell_type": "markdown",
      "metadata": {},
      "source": [
        "# Wnioski\n",
        "Wyniki obu metod różnią się. Metoda brute force jest dokładna, zawsze podaje dobry wynik. Jest jednak znacznie wolniejsza od metody heurystycznej ze względu na przeliczanie przez wszystkie możliwości ułożenia przedmiotów. Jak widać na powyższym wykresie, czas ten rośnie wykładniczo. Metoda heurystyczna natomiast nie zawsze podaje dobry wynik, jest on jednak zbliżony do wartości właściwej. Największą zaletą tej metody jest szybki czas jej działania (rośnie liniowo).\n",
        "\n",
        "Dobierając metodę, należy zwrócić uwagę na ilość przedmiotów w plecaku oraz na wymaganą dokładność algorytmu."
      ]
    }
  ],
  "metadata": {
    "accelerator": "GPU",
    "colab": {
      "provenance": []
    },
    "kernelspec": {
      "display_name": "Python 3",
      "name": "python3"
    },
    "language_info": {
      "codemirror_mode": {
        "name": "ipython",
        "version": 3
      },
      "file_extension": ".py",
      "mimetype": "text/x-python",
      "name": "python",
      "nbconvert_exporter": "python",
      "pygments_lexer": "ipython3",
      "version": "3.10.12"
    },
    "nteract": {
      "version": "nteract-front-end@1.0.0"
    }
  },
  "nbformat": 4,
  "nbformat_minor": 0
}
